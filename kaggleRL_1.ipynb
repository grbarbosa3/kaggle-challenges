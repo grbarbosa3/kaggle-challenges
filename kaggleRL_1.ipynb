{
  "nbformat": 4,
  "nbformat_minor": 0,
  "metadata": {
    "colab": {
      "name": "kaggleRL_1.ipynb",
      "provenance": [],
      "authorship_tag": "ABX9TyMElymTbI7mrca3wIabJxSh",
      "include_colab_link": true
    },
    "kernelspec": {
      "name": "python3",
      "display_name": "Python 3"
    }
  },
  "cells": [
    {
      "cell_type": "markdown",
      "metadata": {
        "id": "view-in-github",
        "colab_type": "text"
      },
      "source": [
        "<a href=\"https://colab.research.google.com/github/grbarbosa3/kaggle-challenges/blob/master/kaggleRL_1.ipynb\" target=\"_parent\"><img src=\"https://colab.research.google.com/assets/colab-badge.svg\" alt=\"Open In Colab\"/></a>"
      ]
    },
    {
      "cell_type": "code",
      "metadata": {
        "id": "UHj4b6yByxjb",
        "colab_type": "code",
        "colab": {}
      },
      "source": [
        "import pandas as pd\n",
        "import matplotlib.pyplot as plt\n",
        "from sklearn.model_selection import train_test_split\n",
        "from sklearn.linear_model import LinearRegression"
      ],
      "execution_count": 27,
      "outputs": []
    },
    {
      "cell_type": "code",
      "metadata": {
        "id": "8qoYANoV7PNH",
        "colab_type": "code",
        "colab": {
          "base_uri": "https://localhost:8080/",
          "height": 122
        },
        "outputId": "55914550-0671-40ef-d27f-4fa4b4437ed8"
      },
      "source": [
        "pip install -U scikit-learn "
      ],
      "execution_count": 28,
      "outputs": [
        {
          "output_type": "stream",
          "text": [
            "Requirement already up-to-date: scikit-learn in /usr/local/lib/python3.6/dist-packages (0.23.2)\n",
            "Requirement already satisfied, skipping upgrade: threadpoolctl>=2.0.0 in /usr/local/lib/python3.6/dist-packages (from scikit-learn) (2.1.0)\n",
            "Requirement already satisfied, skipping upgrade: scipy>=0.19.1 in /usr/local/lib/python3.6/dist-packages (from scikit-learn) (1.4.1)\n",
            "Requirement already satisfied, skipping upgrade: numpy>=1.13.3 in /usr/local/lib/python3.6/dist-packages (from scikit-learn) (1.18.5)\n",
            "Requirement already satisfied, skipping upgrade: joblib>=0.11 in /usr/local/lib/python3.6/dist-packages (from scikit-learn) (0.16.0)\n"
          ],
          "name": "stdout"
        }
      ]
    },
    {
      "cell_type": "code",
      "metadata": {
        "id": "R0Og1sHPzVXK",
        "colab_type": "code",
        "colab": {}
      },
      "source": [
        "df_train = pd.read_csv(\"/content/datasets_1256_2242_train.csv\")\n",
        "df_test = pd.read_csv(\"/content/datasets_1256_2242_test.csv\")"
      ],
      "execution_count": 2,
      "outputs": []
    },
    {
      "cell_type": "code",
      "metadata": {
        "id": "CpGfsRMdzogA",
        "colab_type": "code",
        "colab": {
          "base_uri": "https://localhost:8080/",
          "height": 419
        },
        "outputId": "ca7bb8e6-bef0-4b66-ad26-c84c94f1906f"
      },
      "source": [
        "df_train"
      ],
      "execution_count": 3,
      "outputs": [
        {
          "output_type": "execute_result",
          "data": {
            "text/html": [
              "<div>\n",
              "<style scoped>\n",
              "    .dataframe tbody tr th:only-of-type {\n",
              "        vertical-align: middle;\n",
              "    }\n",
              "\n",
              "    .dataframe tbody tr th {\n",
              "        vertical-align: top;\n",
              "    }\n",
              "\n",
              "    .dataframe thead th {\n",
              "        text-align: right;\n",
              "    }\n",
              "</style>\n",
              "<table border=\"1\" class=\"dataframe\">\n",
              "  <thead>\n",
              "    <tr style=\"text-align: right;\">\n",
              "      <th></th>\n",
              "      <th>x</th>\n",
              "      <th>y</th>\n",
              "    </tr>\n",
              "  </thead>\n",
              "  <tbody>\n",
              "    <tr>\n",
              "      <th>0</th>\n",
              "      <td>24.0</td>\n",
              "      <td>21.549452</td>\n",
              "    </tr>\n",
              "    <tr>\n",
              "      <th>1</th>\n",
              "      <td>50.0</td>\n",
              "      <td>47.464463</td>\n",
              "    </tr>\n",
              "    <tr>\n",
              "      <th>2</th>\n",
              "      <td>15.0</td>\n",
              "      <td>17.218656</td>\n",
              "    </tr>\n",
              "    <tr>\n",
              "      <th>3</th>\n",
              "      <td>38.0</td>\n",
              "      <td>36.586398</td>\n",
              "    </tr>\n",
              "    <tr>\n",
              "      <th>4</th>\n",
              "      <td>87.0</td>\n",
              "      <td>87.288984</td>\n",
              "    </tr>\n",
              "    <tr>\n",
              "      <th>...</th>\n",
              "      <td>...</td>\n",
              "      <td>...</td>\n",
              "    </tr>\n",
              "    <tr>\n",
              "      <th>695</th>\n",
              "      <td>58.0</td>\n",
              "      <td>58.595006</td>\n",
              "    </tr>\n",
              "    <tr>\n",
              "      <th>696</th>\n",
              "      <td>93.0</td>\n",
              "      <td>94.625094</td>\n",
              "    </tr>\n",
              "    <tr>\n",
              "      <th>697</th>\n",
              "      <td>82.0</td>\n",
              "      <td>88.603770</td>\n",
              "    </tr>\n",
              "    <tr>\n",
              "      <th>698</th>\n",
              "      <td>66.0</td>\n",
              "      <td>63.648685</td>\n",
              "    </tr>\n",
              "    <tr>\n",
              "      <th>699</th>\n",
              "      <td>97.0</td>\n",
              "      <td>94.975266</td>\n",
              "    </tr>\n",
              "  </tbody>\n",
              "</table>\n",
              "<p>700 rows × 2 columns</p>\n",
              "</div>"
            ],
            "text/plain": [
              "        x          y\n",
              "0    24.0  21.549452\n",
              "1    50.0  47.464463\n",
              "2    15.0  17.218656\n",
              "3    38.0  36.586398\n",
              "4    87.0  87.288984\n",
              "..    ...        ...\n",
              "695  58.0  58.595006\n",
              "696  93.0  94.625094\n",
              "697  82.0  88.603770\n",
              "698  66.0  63.648685\n",
              "699  97.0  94.975266\n",
              "\n",
              "[700 rows x 2 columns]"
            ]
          },
          "metadata": {
            "tags": []
          },
          "execution_count": 3
        }
      ]
    },
    {
      "cell_type": "code",
      "metadata": {
        "id": "8J6JJia32lT1",
        "colab_type": "code",
        "colab": {
          "base_uri": "https://localhost:8080/",
          "height": 34
        },
        "outputId": "a8540b3e-4e23-419e-b633-0d692c58b183"
      },
      "source": [
        "# Checking where is the missing value\n",
        "\n",
        "df_train[df_train['y'].isnull()].index.tolist()\n"
      ],
      "execution_count": 37,
      "outputs": [
        {
          "output_type": "execute_result",
          "data": {
            "text/plain": [
              "[213]"
            ]
          },
          "metadata": {
            "tags": []
          },
          "execution_count": 37
        }
      ]
    },
    {
      "cell_type": "code",
      "metadata": {
        "id": "LTCZ8f0l9INd",
        "colab_type": "code",
        "colab": {}
      },
      "source": [
        "# Droping the missing value\n",
        "\n",
        "df_clean = df_train.drop([213])\n"
      ],
      "execution_count": 49,
      "outputs": []
    },
    {
      "cell_type": "code",
      "metadata": {
        "id": "TCdjjaV1zpfo",
        "colab_type": "code",
        "colab": {
          "base_uri": "https://localhost:8080/",
          "height": 34
        },
        "outputId": "5b624f40-7c8c-4d0d-d3ae-47a7f10b3f53"
      },
      "source": [
        "# Hyperparameters\n",
        "\n",
        "model = LinearRegression()\n",
        "\n",
        "# Creating the Feature Matrix and Target Vector\n",
        "\n",
        "X_train = df_clean['x'].values.reshape(-1,1)\n",
        "y_train = df_clean['y']\n",
        "\n",
        "# Training the model\n",
        "\n",
        "model.fit(X_train, y_train)"
      ],
      "execution_count": 50,
      "outputs": [
        {
          "output_type": "execute_result",
          "data": {
            "text/plain": [
              "LinearRegression(copy_X=True, fit_intercept=True, n_jobs=None, normalize=False)"
            ]
          },
          "metadata": {
            "tags": []
          },
          "execution_count": 50
        }
      ]
    },
    {
      "cell_type": "code",
      "metadata": {
        "id": "5CsK9IIgz56w",
        "colab_type": "code",
        "colab": {}
      },
      "source": [
        "df_test = pd.read_csv(\"/content/datasets_1256_2242_test.csv\")"
      ],
      "execution_count": 51,
      "outputs": []
    },
    {
      "cell_type": "code",
      "metadata": {
        "id": "lW2shoQWAbik",
        "colab_type": "code",
        "colab": {
          "base_uri": "https://localhost:8080/",
          "height": 34
        },
        "outputId": "1e016f61-1745-4657-c9e6-ce973800373d"
      },
      "source": [
        "# checking for missing values\n",
        "\n",
        "df_test[df_test['y'].isnull()].index.tolist()"
      ],
      "execution_count": 57,
      "outputs": [
        {
          "output_type": "execute_result",
          "data": {
            "text/plain": [
              "[]"
            ]
          },
          "metadata": {
            "tags": []
          },
          "execution_count": 57
        }
      ]
    },
    {
      "cell_type": "code",
      "metadata": {
        "id": "NSfJFE9tAgbS",
        "colab_type": "code",
        "colab": {}
      },
      "source": [
        "X_test = df_test['x'].values.reshape(-1,1)"
      ],
      "execution_count": 60,
      "outputs": []
    },
    {
      "cell_type": "code",
      "metadata": {
        "id": "zJxqNFP5DvV9",
        "colab_type": "code",
        "colab": {}
      },
      "source": [
        "y_test = df_test['y']"
      ],
      "execution_count": 69,
      "outputs": []
    },
    {
      "cell_type": "code",
      "metadata": {
        "id": "4HJ7NyvpB6G0",
        "colab_type": "code",
        "colab": {}
      },
      "source": [
        "y_pred = model.predict(X_test)"
      ],
      "execution_count": 61,
      "outputs": []
    },
    {
      "cell_type": "code",
      "metadata": {
        "id": "7oSBHDZJCffS",
        "colab_type": "code",
        "colab": {
          "base_uri": "https://localhost:8080/",
          "height": 51
        },
        "outputId": "c2eca036-a693-4a61-b03b-20a067fa80d2"
      },
      "source": [
        "# Coefficient and Intercept\n",
        "\n",
        "print(\"Coefficient:\\t\", model.coef_)\n",
        "print(\"Intercetp:\\t\", model.intercept_)"
      ],
      "execution_count": 62,
      "outputs": [
        {
          "output_type": "stream",
          "text": [
            "Coefficient:\t [1.00065638]\n",
            "Intercetp:\t -0.10726546430097272\n"
          ],
          "name": "stdout"
        }
      ]
    },
    {
      "cell_type": "code",
      "metadata": {
        "id": "tbd36cLnB9tx",
        "colab_type": "code",
        "colab": {
          "base_uri": "https://localhost:8080/",
          "height": 297
        },
        "outputId": "130f3da0-229e-45d1-8dce-5c947e29c3d0"
      },
      "source": [
        "# Plotting\n",
        "\n",
        "fig, ax = plt.subplots()\n",
        "ax.scatter(X_train, y_train, s=1, color='blue')\n",
        "ax.plot (X_train, (model.coef_ * X_train + model.intercept_), '--r', linewidth=1)\n",
        "fig.tight_layout()"
      ],
      "execution_count": 66,
      "outputs": [
        {
          "output_type": "display_data",
          "data": {
            "image/png": "[encoded data removed]",
            "text/plain": [
              "<Figure size 432x288 with 1 Axes>"
            ]
          },
          "metadata": {
            "tags": [],
            "needs_background": "light"
          }
        }
      ]
    },
    {
      "cell_type": "code",
      "metadata": {
        "id": "lm9S5fX0DH9Z",
        "colab_type": "code",
        "colab": {
          "base_uri": "https://localhost:8080/",
          "height": 1000
        },
        "outputId": "8758ed95-dd33-4e3b-a574-e59f6f0c8d8f"
      },
      "source": [
        "y_pred"
      ],
      "execution_count": 67,
      "outputs": [
        {
          "output_type": "execute_result",
          "data": {
            "text/plain": [
              "array([76.94327594, 20.90651855, 21.90717494, 19.90586217, 35.91636428,\n",
              "       14.90258026, 61.93343021, 94.95509081, 19.90586217,  4.89601644,\n",
              "        3.89536006, 18.90520579, 95.95574719, 61.93343021, 35.91636428,\n",
              "       14.90258026, 64.93539936, 13.90192388, 86.94983976, 68.93802488,\n",
              "       88.95115252, 50.92621001, 88.95115252, 26.91045685, 96.95640358,\n",
              "       57.93080468, 78.9445887 , 20.90651855, 92.95377805, 26.91045685,\n",
              "       98.95771634, 30.91308237, 32.91439514, 79.94524508, 27.91111323,\n",
              "       46.92358448, 52.92752277, 68.93802488, 27.91111323, 32.91439514,\n",
              "       90.95246528, 70.93933765, 49.92555363, 75.94261956,  3.89536006,\n",
              "       36.91702066, 69.93868127, 67.9373685 , 39.91898981, 34.9157079 ,\n",
              "       93.95443443, 87.95049614, 51.92686639, 30.91308237, 58.93146107,\n",
              "       -0.10726546, 38.91833343, 63.93474297, 68.93802488, 56.9301483 ,\n",
              "       12.9012675 , 71.93999403, 75.94261956, 60.93277383, 81.94655785,\n",
              "       17.90454941, 40.91964619, 49.92555363, 54.92883554, 12.9012675 ,\n",
              "       45.9229281 , 12.9012675 , 78.9445887 , 52.92752277, 14.90258026,\n",
              "       27.91111323, 80.94590147, 68.93802488, 51.92686639, 83.94787061,\n",
              "       67.9373685 , 26.91045685, 55.92949192, 47.92424086, 39.91898981,\n",
              "       38.91833343, 81.94655785, 99.95837272, 58.93146107, 42.92095896,\n",
              "       66.93671212, 37.91767705, 62.93408659, 90.95246528, 59.93211745,\n",
              "       13.90192388, 20.90651855, 86.94983976, 72.94065041, 31.91373876,\n",
              "        1.8940473 , 81.94655785, 18.90520579, 73.94130679, 41.92030257,\n",
              "       11.90061112,  0.89339092, 89.9518089 , 88.95115252, -0.10726546,\n",
              "       40.91964619, 15.90323665, 93.95443443, 96.95640358, 65.93605574,\n",
              "       23.9084877 , 16.90389303, 89.9518089 , 12.9012675 , -0.10726546,\n",
              "       63.93474297, 95.95574719, 97.95705996, 11.90061112, 40.91964619,\n",
              "       46.92358448, 77.94393232, 19.90586217, 88.95115252, 28.91176961,\n",
              "       63.93474297, 74.94196317, 11.90061112, 24.90914408, 27.91111323,\n",
              "       29.91242599, 64.93539936, 58.93146107, 63.93474297, 52.92752277,\n",
              "       70.93933765, 96.95640358, 72.94065041,  8.89864197, 11.90061112,\n",
              "       62.93408659, 98.95771634, 59.93211745, 34.9157079 ,  1.8940473 ,\n",
              "       59.93211745, 31.91373876, 93.95443443, 83.94787061, 62.93408659,\n",
              "       21.90717494, 80.94590147, 92.95377805, 32.91439514,  6.89732921,\n",
              "       41.92030257, 45.9229281 , 53.92817916, 15.90323665, 48.92489725,\n",
              "       42.92095896, 94.95509081, 65.93605574, 20.90651855, 34.9157079 ,\n",
              "       79.94524508, 36.91702066, 53.92817916, 55.92949192,  0.89339092,\n",
              "       31.91373876, 57.93080468, 31.91373876, 45.9229281 , 71.93999403,\n",
              "       16.90389303, 96.95640358, 92.95377805, 90.95246528, 36.91702066,\n",
              "        3.89536006, 53.92817916, 50.92621001, 26.91045685, 45.9229281 ,\n",
              "       91.95312167, 72.94065041, 76.94327594, 90.95246528, 60.93277383,\n",
              "       98.95771634,  3.89536006, 71.93999403, 18.90520579, 56.9301483 ,\n",
              "       77.94393232, 25.90980046, 73.94130679, 89.9518089 , 65.93605574,\n",
              "       12.9012675 , 39.91898981, 76.94327594, 66.93671212, 74.94196317,\n",
              "       22.90783132, 44.92227172, 58.93146107, 43.92161534, 22.90783132,\n",
              "       54.92883554, 54.92883554, 94.95509081, 11.90061112,  3.89536006,\n",
              "        6.89732921, 99.95837272, 47.92424086, 41.92030257, 95.95574719,\n",
              "       38.91833343, 99.95837272, 86.94983976, 13.90192388, 13.90192388,\n",
              "       36.91702066,  4.89601644, 87.95049614, 90.95246528, 64.93539936,\n",
              "       73.94130679, 55.92949192, 15.90323665,  4.89601644, 27.91111323,\n",
              "       91.95312167, 45.9229281 , 53.92817916, 38.91833343, 43.92161534,\n",
              "       30.91308237, 67.9373685 , 85.94918338, 89.9518089 , 37.91767705,\n",
              "       20.90651855, 94.95509081, 55.92949192, 59.93211745, 64.93539936,\n",
              "       77.94393232, 88.95115252,  5.89667283, 66.93671212, 35.91636428,\n",
              "       15.90323665, 99.95837272, 44.92227172, 72.94065041, 56.9301483 ,\n",
              "       19.90586217, 75.94261956, 33.91505152, 54.92883554, 71.93999403,\n",
              "       54.92883554,  7.89798559, 55.92949192, 71.93999403, 57.93080468,\n",
              "        5.89667283, 95.95574719, 22.90783132, 57.93080468, 22.90783132,\n",
              "       18.90520579, 24.90914408, 63.93474297, 20.90651855, 58.93146107,\n",
              "       18.90520579, 15.90323665, 41.92030257, 42.92095896, 60.93277383,\n",
              "       91.95312167, 10.89995474, 40.91964619,  0.89339092,  7.89798559,\n",
              "       70.93933765, 45.9229281 , 54.92883554, 61.93343021, 46.92358448])"
            ]
          },
          "metadata": {
            "tags": []
          },
          "execution_count": 67
        }
      ]
    },
    {
      "cell_type": "code",
      "metadata": {
        "id": "OAgRVMNdDfJA",
        "colab_type": "code",
        "colab": {}
      },
      "source": [
        "from sklearn.metrics import r2_score, mean_absolute_error, mean_squared_error"
      ],
      "execution_count": 68,
      "outputs": []
    },
    {
      "cell_type": "code",
      "metadata": {
        "id": "5tVc1uYxDpKY",
        "colab_type": "code",
        "colab": {
          "base_uri": "https://localhost:8080/",
          "height": 68
        },
        "outputId": "e1b205f5-8325-4f95-fdfe-7f83e4477b5a"
      },
      "source": [
        "print(\"R²:\\t\", r2_score(y_test, y_pred))\n",
        "print(\"MAE:\\t\", mean_absolute_error(y_test, y_pred))\n",
        "print(\"MSE:\\t\", mean_squared_error(y_test, y_pred))"
      ],
      "execution_count": 70,
      "outputs": [
        {
          "output_type": "stream",
          "text": [
            "R²:\t 0.9888014444327563\n",
            "MAE:\t 2.415771850041258\n",
            "MSE:\t 9.432922192039305\n"
          ],
          "name": "stdout"
        }
      ]
    },
    {
      "cell_type": "markdown",
      "metadata": {
        "id": "uQJ_dqHTD9Ut",
        "colab_type": "text"
      },
      "source": [
        ""
      ]
    },
    {
      "cell_type": "code",
      "metadata": {
        "id": "Bx9iULtOD7yp",
        "colab_type": "code",
        "colab": {}
      },
      "source": [
        ""
      ],
      "execution_count": null,
      "outputs": []
    },
    {
      "cell_type": "code",
      "metadata": {
        "id": "P6s5e1NFD3EY",
        "colab_type": "code",
        "colab": {}
      },
      "source": [
        ""
      ],
      "execution_count": null,
      "outputs": []
    }
  ]
}